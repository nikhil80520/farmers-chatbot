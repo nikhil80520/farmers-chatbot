{
 "cells": [
  {
   "cell_type": "code",
   "execution_count": 1,
   "metadata": {},
   "outputs": [],
   "source": [
    "import pandas as pd\n",
    "data = {\n",
    "    \"Question\": [\n",
    "        \"What crops can I grow in [location]?\",\n",
    "        \"What is the best planting season for corn?\",\n",
    "        \"How can I control pests in my farm?\",\n",
    "        \"What are the best practices for soil health?\",\n",
    "        \"How do I improve crop yield?\",\n",
    "        \"What is organic farming?\",\n",
    "        \"What are the benefits of crop rotation?\",\n",
    "        \"What is precision agriculture?\",\n",
    "        \"How can I get a soil test for my farm?\",\n",
    "        \"What are the main factors affecting crop growth?\"\n",
    "    ],\n",
    "    \"Answer\": [\n",
    "        \"In [location], you can grow crops such as wheat, rice, corn, and soybeans.\",\n",
    "        \"The best planting season for corn is from late spring to early summer when the soil temperature is warm.\",\n",
    "        \"You can control pests by using integrated pest management (IPM), which includes biological control, traps, and organic pesticides.\",\n",
    "        \"Best practices include crop rotation, cover cropping, and regular soil testing.\",\n",
    "        \"Improve crop yield by ensuring proper irrigation, fertilization, pest control, and using high-quality seeds.\",\n",
    "        \"Organic farming is an agricultural method that aims to produce food without synthetic fertilizers or pesticides.\",\n",
    "        \"Crop rotation improves soil health, reduces pest and disease buildup, and increases biodiversity.\",\n",
    "        \"Precision agriculture uses technology and data to optimize farming practices and increase efficiency.\",\n",
    "        \"You can contact your local agricultural extension office or use a commercial soil testing service.\",\n",
    "        \"Main factors include soil quality, water availability, sunlight, temperature, and pest management.\"\n",
    "    ]\n",
    "}\n",
    "\n",
    "# Create a DataFrame\n",
    "df = pd.DataFrame(data)\n",
    "\n",
    "# Save to CSV\n",
    "df.to_csv('agriculture_knowledge_base.csv', index=False)"
   ]
  },
  {
   "cell_type": "code",
   "execution_count": null,
   "metadata": {},
   "outputs": [],
   "source": []
  }
 ],
 "metadata": {
  "kernelspec": {
   "display_name": "Python 3",
   "language": "python",
   "name": "python3"
  },
  "language_info": {
   "codemirror_mode": {
    "name": "ipython",
    "version": 3
   },
   "file_extension": ".py",
   "mimetype": "text/x-python",
   "name": "python",
   "nbconvert_exporter": "python",
   "pygments_lexer": "ipython3",
   "version": "3.12.4"
  }
 },
 "nbformat": 4,
 "nbformat_minor": 2
}
